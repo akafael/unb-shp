{
 "cells": [
  {
   "cell_type": "code",
   "execution_count": 5,
   "metadata": {
    "collapsed": true,
    "deletable": true,
    "editable": true
   },
   "outputs": [],
   "source": [
    "import sympy\n",
    "import numpy"
   ]
  },
  {
   "cell_type": "markdown",
   "metadata": {
    "deletable": true,
    "editable": true
   },
   "source": [
    "# Guia para Projeto de Sistemas Hidráulicos\n",
    "\n",
    "## Etapa 1 - Determinar para cada atuador\n",
    "\n",
    "1. **FORÇA** $F_f$ (axial, eliminar forças radiais usando dispositivos)\n",
    "2. **CURSO**, $x$ (Tamanho do Deslocamento Necessário)\n",
    "3. **FORMA de FIXAÇÂO** ( tabela que corrige o valor de L para c, comprimento livre de flambagem). Prestar atenção na definição de L de acordo com o ponto de fixação. Verificar se a carga é guiada ou não (as vezes não da pra guiar)\n",
    "4. **VELOCIDADE** $v$ (definida por norma ou especificada pelo projeto)"
   ]
  },
  {
   "cell_type": "code",
   "execution_count": 6,
   "metadata": {
    "collapsed": false,
    "deletable": true,
    "editable": true
   },
   "outputs": [
    {
     "name": "stdout",
     "output_type": "stream",
     "text": [
      "sqrt(F_f/P)/sqrt(pi)\n"
     ]
    }
   ],
   "source": [
    "#: Dicionário de possíveis métodos de fixação:\n",
    "listaMetodosFixacao = {1:\"Engastado\"}\n",
    "\n",
    "'''Dados de Projeto'''\n",
    "Ff = sp.Symbol(\"F_f\")                  #: Força\n",
    "x = sp.Symbol(\"x\")                     #: Tamanho do Deslocamento necessário\n",
    "metodoFixacao = listaMetodosFixacao[1] #: Forma de Fixação\n",
    "v = sp.Symbol(\"v\")                     #: Velocidade\n",
    "\n",
    "'''Pressões para Sistemas Hidráulico e Pneumático'''\n",
    "Pp = 6                   #: Pressão Ideal Pneumático [Atm]\n",
    "Ph = 400                 #: Pressão Ideal Hidráulico [Atm]\n",
    "P = sp.Symbol(\"P\")       #: Pressão Ideal\n",
    "\n",
    "'''Cálculo do Diâmetro do cilindro para Pressão Ideal'''\n",
    "r = sympy.sqrt(Ff/(P*sympy.pi))"
   ]
  },
  {
   "cell_type": "markdown",
   "metadata": {
    "deletable": true,
    "editable": true
   },
   "source": [
    "## Etapa 2 - Definir DIAMETRO DA HASTE\n",
    "\n",
    "A partir dos parâmetros anteriores definir DIAMETRO DA HASTE e considerando $F_t = 3 F_f$\n",
    "\n",
    "* *Método 1*: usando a formula $...$\n",
    "    * $S_m$ : Limite Elastico do material\n",
    "    * $J$ : Momento de Inercia haste (normalmente cilindrico de seção circular)\n",
    "    * $c$ : Comprimento Livre flambagem (depende do tipo de fixação)\n",
    "* *Método 2*: Usando as curvas fornecidas pelo fabricante, onde no eixo vertical entra-se com $c$ e no horizontal com $F_t$"
   ]
  },
  {
   "cell_type": "code",
   "execution_count": null,
   "metadata": {
    "collapsed": false,
    "deletable": true,
    "editable": true
   },
   "outputs": [],
   "source": [
    "Q = 0                   #: Vazão \n",
    "phi = 0                 #: Phi\n",
    "mi = 1                  #: Viscosidade do Líquido $\\mi$\n",
    "Ae = 1                  #: Área Embolo $A_e$\n",
    "Ah = 1                  #: Área Haste $A_h$\n",
    "\n",
    "Ps = 1                  #: Pressão de Sumplemento do Cilindro\n",
    "Pe = 1                  #: Pressão de Saída do Cilindro\n",
    "Fa = P*Ah               #: Força Avanço\n",
    "Fr = P*(Ae-Ah)          #: Força Avanço\n",
    "v = Q/A                 #: Velocidade de escoamento\n",
    "\n",
    "# Veŕifica se o Escoamento é laminar pelo Número de Reinolds\n",
    "N = v*phi/mi            #: Número de Reinolds\n",
    "\n",
    "if N > 2000:\n",
    "    raise ValueError(\"Valor Inválido, Escoamento não Laminar\")"
   ]
  },
  {
   "cell_type": "code",
   "execution_count": null,
   "metadata": {
    "collapsed": true,
    "deletable": true,
    "editable": true
   },
   "outputs": [],
   "source": [
    "x = sp.Symbol(\"x\")      #: Tamanho Cilindro\n",
    "L = 2*x                 #: Curso total\n",
    "\n",
    "# Calculo do fator de curso\n",
    "cursoSelecionado = \"Engastado\"\n",
    "if cursoSelecionado == \"Engastado\":\n",
    "    c= 2*L"
   ]
  },
  {
   "cell_type": "markdown",
   "metadata": {
    "deletable": true,
    "editable": true
   },
   "source": [
    "### Recomendação: Número de Contatoras por projeto\n",
    "\n",
    "* Valvula com duas posições com duplo acionamento por solenóide dispensa contatoras.\n",
    "* Valvula com duas posições com acionamento por solenóide e mola precisa de uma contatora.\n",
    "* Valvula com três posições com duplo acionamento por solenóide e centrada por molas precisa de duas contatora\n",
    "\n",
    "\n",
    "$Obs_1:$ Se Precisar use contatora para resolver conflito de sensores\n",
    "\n",
    "$Obs_2:$ Se o sensor acionado todo tempo que a contatora tiver que ser presa não precisa contatora."
   ]
  },
  {
   "cell_type": "code",
   "execution_count": null,
   "metadata": {
    "collapsed": true,
    "deletable": true,
    "editable": true
   },
   "outputs": [],
   "source": [
    "### Diâmetro da tubulação"
   ]
  },
  {
   "cell_type": "code",
   "execution_count": null,
   "metadata": {
    "collapsed": true,
    "deletable": true,
    "editable": true
   },
   "outputs": [],
   "source": []
  }
 ],
 "metadata": {
  "kernelspec": {
   "display_name": "Python 2",
   "language": "python",
   "name": "python2"
  },
  "language_info": {
   "codemirror_mode": {
    "name": "ipython",
    "version": 2
   },
   "file_extension": ".py",
   "mimetype": "text/x-python",
   "name": "python",
   "nbconvert_exporter": "python",
   "pygments_lexer": "ipython2",
   "version": "2.7.6"
  }
 },
 "nbformat": 4,
 "nbformat_minor": 2
}
